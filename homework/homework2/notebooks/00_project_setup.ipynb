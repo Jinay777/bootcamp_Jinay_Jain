{
 "cells": [
  {
   "cell_type": "code",
   "execution_count": 1,
   "id": "7e52da24-d149-4ea2-b904-a61434495bfe",
   "metadata": {},
   "outputs": [
    {
     "name": "stdout",
     "output_type": "stream",
     "text": [
      "API_KEY exists? True\n",
      "[2 4 6]\n"
     ]
    }
   ],
   "source": [
    "from dotenv import load_dotenv\n",
    "import numpy as np\n",
    "import os\n",
    "\n",
    "load_dotenv()\n",
    "print(\"API_KEY exists?\" , \"API_KEY\" in os.environ)\n",
    "\n",
    "# small numpy test\n",
    "arr = np.array([1, 2, 3])\n",
    "print(arr * 2)\n"
   ]
  },
  {
   "cell_type": "code",
   "execution_count": null,
   "id": "5174e756-c9f7-4853-8a20-647efc4126d3",
   "metadata": {},
   "outputs": [],
   "source": []
  }
 ],
 "metadata": {
  "kernelspec": {
   "display_name": "Python 3 (ipykernel)",
   "language": "python",
   "name": "python3"
  },
  "language_info": {
   "codemirror_mode": {
    "name": "ipython",
    "version": 3
   },
   "file_extension": ".py",
   "mimetype": "text/x-python",
   "name": "python",
   "nbconvert_exporter": "python",
   "pygments_lexer": "ipython3",
   "version": "3.13.5"
  }
 },
 "nbformat": 4,
 "nbformat_minor": 5
}
