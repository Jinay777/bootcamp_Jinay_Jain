{
 "cells": [
  {
   "cell_type": "code",
   "execution_count": 1,
   "id": "9a24d106-a538-4ec2-b544-7ff6929eed08",
   "metadata": {},
   "outputs": [],
   "source": [
    "from dotenv import load_dotenv\n",
    "import os\n",
    "\n",
    "def load_env():\n",
    "    load_dotenv()\n",
    "\n",
    "def get_key(key_name):\n",
    "    return os.getenv(key_name)\n"
   ]
  },
  {
   "cell_type": "code",
   "execution_count": null,
   "id": "f08422bb-a21c-43bc-845f-653b460ff9ea",
   "metadata": {},
   "outputs": [],
   "source": []
  }
 ],
 "metadata": {
  "kernelspec": {
   "display_name": "Python 3 (ipykernel)",
   "language": "python",
   "name": "python3"
  },
  "language_info": {
   "codemirror_mode": {
    "name": "ipython",
    "version": 3
   },
   "file_extension": ".py",
   "mimetype": "text/x-python",
   "name": "python",
   "nbconvert_exporter": "python",
   "pygments_lexer": "ipython3",
   "version": "3.13.5"
  }
 },
 "nbformat": 4,
 "nbformat_minor": 5
}
