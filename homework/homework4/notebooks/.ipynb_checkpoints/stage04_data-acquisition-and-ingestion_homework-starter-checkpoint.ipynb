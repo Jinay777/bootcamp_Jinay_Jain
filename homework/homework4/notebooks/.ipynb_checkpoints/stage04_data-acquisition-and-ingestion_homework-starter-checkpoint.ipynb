{
 "cells": [
  {
   "cell_type": "code",
   "execution_count": 20,
   "id": "f671a520-2b6e-47b7-97ee-485c66202209",
   "metadata": {},
   "outputs": [
    {
     "name": "stdout",
     "output_type": "stream",
     "text": [
      "Collecting lxml\n",
      "  Downloading lxml-6.0.0-cp313-cp313-win_amd64.whl.metadata (6.8 kB)\n",
      "Downloading lxml-6.0.0-cp313-cp313-win_amd64.whl (4.0 MB)\n",
      "   ---------------------------------------- 0.0/4.0 MB ? eta -:--:--\n",
      "   ---------- ----------------------------- 1.0/4.0 MB 20.7 MB/s eta 0:00:01\n",
      "   ---------------------------------------- 4.0/4.0 MB 28.1 MB/s eta 0:00:00\n",
      "Installing collected packages: lxml\n",
      "Successfully installed lxml-6.0.0\n",
      "Note: you may need to restart the kernel to use updated packages.\n"
     ]
    }
   ],
   "source": [
    "pip install lxml"
   ]
  },
  {
   "cell_type": "code",
   "execution_count": 21,
   "id": "5da770c5-e940-4afa-b705-bfc6c02a39b2",
   "metadata": {},
   "outputs": [],
   "source": [
    "import os\n",
    "import requests\n",
    "import pandas as pd\n",
    "from dotenv import load_dotenv\n",
    "from bs4 import BeautifulSoup\n",
    "from datetime import datetime\n"
   ]
  },
  {
   "cell_type": "code",
   "execution_count": 22,
   "id": "08963193-f8d5-4e17-9bf7-dea761fa5e66",
   "metadata": {},
   "outputs": [
    {
     "name": "stdout",
     "output_type": "stream",
     "text": [
      "API Key Loaded: True\n"
     ]
    }
   ],
   "source": [
    "load_dotenv()\n",
    "api_key = os.getenv(\"API_KEY\")\n",
    "print(\"API Key Loaded:\", bool(api_key))\n"
   ]
  },
  {
   "cell_type": "code",
   "execution_count": 23,
   "id": "6b81ccc8-0b1a-4eea-ae99-0eefd37dfda8",
   "metadata": {},
   "outputs": [
    {
     "name": "stdout",
     "output_type": "stream",
     "text": [
      "(100, 6)\n",
      "date         0\n",
      "1. open      0\n",
      "2. high      0\n",
      "3. low       0\n",
      "4. close     0\n",
      "5. volume    0\n",
      "dtype: int64\n"
     ]
    }
   ],
   "source": [
    "# Params\n",
    "ticker = \"AAPL\"\n",
    "url = \"https://www.alphavantage.co/query\"\n",
    "params = {\n",
    "    \"function\": \"TIME_SERIES_DAILY\",\n",
    "    \"symbol\": ticker,\n",
    "    \"apikey\": api_key,\n",
    "    \"outputsize\": \"compact\"\n",
    "}\n",
    "\n",
    "# Request\n",
    "response = requests.get(url, params=params)\n",
    "data = response.json()\n",
    "\n",
    "# Parse\n",
    "df_api = pd.DataFrame.from_dict(data[\"Time Series (Daily)\"], orient=\"index\")\n",
    "df_api.index = pd.to_datetime(df_api.index)\n",
    "df_api = df_api.astype(float).reset_index().rename(columns={\"index\":\"date\"})\n",
    "\n",
    "# Validate\n",
    "print(df_api.shape)\n",
    "print(df_api.isna().sum())\n",
    "\n",
    "# Save\n",
    "timestamp = datetime.now().strftime(\"%Y%m%d-%H%M\")\n",
    "fname = f\"D:/bootcamp_Jinay_Jain/homework/homework4/data/raw/api_alphavantage_{ticker}_{timestamp}.csv\"\n",
    "df_api.to_csv(fname, index=False)\n"
   ]
  },
  {
   "cell_type": "code",
   "execution_count": 24,
   "id": "84341a50-f989-4e55-9af3-cf75d83b0d5d",
   "metadata": {},
   "outputs": [
    {
     "name": "stdout",
     "output_type": "stream",
     "text": [
      "  Symbol             Security             GICS Sector  \\\n",
      "0    MMM                   3M             Industrials   \n",
      "1    AOS          A. O. Smith             Industrials   \n",
      "2    ABT  Abbott Laboratories             Health Care   \n",
      "3   ABBV               AbbVie             Health Care   \n",
      "4    ACN            Accenture  Information Technology   \n",
      "\n",
      "                GICS Sub-Industry    Headquarters Location  Date added  \\\n",
      "0        Industrial Conglomerates    Saint Paul, Minnesota  1957-03-04   \n",
      "1               Building Products     Milwaukee, Wisconsin  2017-07-26   \n",
      "2           Health Care Equipment  North Chicago, Illinois  1957-03-04   \n",
      "3                   Biotechnology  North Chicago, Illinois  2012-12-31   \n",
      "4  IT Consulting & Other Services          Dublin, Ireland  2011-07-06   \n",
      "\n",
      "       CIK      Founded  \n",
      "0    66740         1902  \n",
      "1    91142         1916  \n",
      "2     1800         1888  \n",
      "3  1551152  2013 (1888)  \n",
      "4  1467373         1989  \n",
      "Symbol                   0\n",
      "Security                 0\n",
      "GICS Sector              0\n",
      "GICS Sub-Industry        0\n",
      "Headquarters Location    0\n",
      "Date added               0\n",
      "CIK                      0\n",
      "Founded                  0\n",
      "dtype: int64\n"
     ]
    },
    {
     "name": "stderr",
     "output_type": "stream",
     "text": [
      "C:\\Users\\jinay\\AppData\\Local\\Temp\\ipykernel_34988\\813975403.py:7: FutureWarning: Passing literal html to 'read_html' is deprecated and will be removed in a future version. To read from a literal string, wrap it in a 'StringIO' object.\n",
      "  df_scrape = pd.read_html(str(table))[0]\n"
     ]
    }
   ],
   "source": [
    "url = \"https://en.wikipedia.org/wiki/List_of_S%26P_500_companies\"\n",
    "html = requests.get(url).text\n",
    "soup = BeautifulSoup(html, \"html.parser\")\n",
    "\n",
    "# Parse first table\n",
    "table = soup.find(\"table\", {\"id\": \"constituents\"})\n",
    "df_scrape = pd.read_html(str(table))[0]\n",
    "\n",
    "# Validate\n",
    "print(df_scrape.head())\n",
    "print(df_scrape.isna().sum())\n",
    "\n",
    "# Save\n",
    "timestamp = datetime.now().strftime(\"%Y%m%d-%H%M\")\n",
    "fname = f\"D:/bootcamp_Jinay_Jain/homework/homework4/data/raw/scrape_wikipedia_sp500_{timestamp}.csv\"\n",
    "df_scrape.to_csv(fname, index=False)\n"
   ]
  },
  {
   "cell_type": "markdown",
   "id": "9635f34a-5735-4c68-8f4c-7cca02c802e5",
   "metadata": {},
   "source": [
    "### Data Sources\n",
    "- API: Alpha Vantage (TIME_SERIES_DAILY) — params: symbol=AAPL, outputsize=compact\n",
    "- Scrape: Wikipedia S&P 500 Companies List\n",
    "\n",
    "### Validation Logic\n",
    "- API: ensured dates parsed, numeric types converted, NA counts checked\n",
    "- Scrape: verified text/numeric cols, NA counts checked\n",
    "\n",
    "### Assumptions & Risks\n",
    "- API limited to 5 calls/min (risk: throttling)\n",
    "- Wikipedia structure may change (risk: scraping fails)\n",
    "- Dates parsed as UTC (risk: time zone differences)\n",
    "\n",
    "### Notes\n",
    "- `.env` file stores API key and is excluded from GitHub.\n"
   ]
  },
  {
   "cell_type": "code",
   "execution_count": null,
   "id": "5c9b3e9c-ed78-4c17-992e-8339ec2bedaf",
   "metadata": {},
   "outputs": [],
   "source": []
  }
 ],
 "metadata": {
  "kernelspec": {
   "display_name": "Python 3 (ipykernel)",
   "language": "python",
   "name": "python3"
  },
  "language_info": {
   "codemirror_mode": {
    "name": "ipython",
    "version": 3
   },
   "file_extension": ".py",
   "mimetype": "text/x-python",
   "name": "python",
   "nbconvert_exporter": "python",
   "pygments_lexer": "ipython3",
   "version": "3.13.5"
  }
 },
 "nbformat": 4,
 "nbformat_minor": 5
}
