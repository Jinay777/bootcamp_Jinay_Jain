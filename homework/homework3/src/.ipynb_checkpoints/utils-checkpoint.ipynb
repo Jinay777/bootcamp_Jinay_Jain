{
 "cells": [
  {
   "cell_type": "code",
   "execution_count": 1,
   "id": "a747e250-6acc-4228-aa7f-9fe525613d00",
   "metadata": {},
   "outputs": [],
   "source": [
    "\n",
    "import pandas as pd\n",
    "# Utility function\n",
    "def get_summary_stats(df):\n",
    "    return df.describe()"
   ]
  },
  {
   "cell_type": "code",
   "execution_count": null,
   "id": "bb9169ba-15a6-4e5e-835e-2d4d64a3e14d",
   "metadata": {},
   "outputs": [],
   "source": []
  }
 ],
 "metadata": {
  "kernelspec": {
   "display_name": "Python 3 (ipykernel)",
   "language": "python",
   "name": "python3"
  },
  "language_info": {
   "codemirror_mode": {
    "name": "ipython",
    "version": 3
   },
   "file_extension": ".py",
   "mimetype": "text/x-python",
   "name": "python",
   "nbconvert_exporter": "python",
   "pygments_lexer": "ipython3",
   "version": "3.13.5"
  }
 },
 "nbformat": 4,
 "nbformat_minor": 5
}
