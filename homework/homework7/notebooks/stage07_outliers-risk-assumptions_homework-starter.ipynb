{
 "cells": [
  {
   "cell_type": "code",
   "execution_count": 10,
   "id": "e30e7494",
   "metadata": {},
   "outputs": [
    {
     "name": "stdout",
     "output_type": "stream",
     "text": [
      "Collecting matplotlib\n",
      "  Downloading matplotlib-3.10.5-cp310-cp310-win_amd64.whl.metadata (11 kB)\n",
      "Collecting scikit-learn\n",
      "  Downloading scikit_learn-1.7.1-cp310-cp310-win_amd64.whl.metadata (11 kB)\n",
      "Collecting contourpy>=1.0.1 (from matplotlib)\n",
      "  Downloading contourpy-1.3.2-cp310-cp310-win_amd64.whl.metadata (5.5 kB)\n",
      "Collecting cycler>=0.10 (from matplotlib)\n",
      "  Using cached cycler-0.12.1-py3-none-any.whl.metadata (3.8 kB)\n",
      "Collecting fonttools>=4.22.0 (from matplotlib)\n",
      "  Downloading fonttools-4.59.1-cp310-cp310-win_amd64.whl.metadata (111 kB)\n",
      "Collecting kiwisolver>=1.3.1 (from matplotlib)\n",
      "  Downloading kiwisolver-1.4.9-cp310-cp310-win_amd64.whl.metadata (6.4 kB)\n",
      "Requirement already satisfied: numpy>=1.23 in c:\\users\\jinay\\miniconda3\\envs\\bootcamp_env\\lib\\site-packages (from matplotlib) (2.2.6)\n",
      "Requirement already satisfied: packaging>=20.0 in c:\\users\\jinay\\miniconda3\\envs\\bootcamp_env\\lib\\site-packages (from matplotlib) (25.0)\n",
      "Collecting pillow>=8 (from matplotlib)\n",
      "  Downloading pillow-11.3.0-cp310-cp310-win_amd64.whl.metadata (9.2 kB)\n",
      "Collecting pyparsing>=2.3.1 (from matplotlib)\n",
      "  Using cached pyparsing-3.2.3-py3-none-any.whl.metadata (5.0 kB)\n",
      "Requirement already satisfied: python-dateutil>=2.7 in c:\\users\\jinay\\miniconda3\\envs\\bootcamp_env\\lib\\site-packages (from matplotlib) (2.9.0.post0)\n",
      "Collecting scipy>=1.8.0 (from scikit-learn)\n",
      "  Downloading scipy-1.15.3-cp310-cp310-win_amd64.whl.metadata (60 kB)\n",
      "Collecting joblib>=1.2.0 (from scikit-learn)\n",
      "  Downloading joblib-1.5.1-py3-none-any.whl.metadata (5.6 kB)\n",
      "Collecting threadpoolctl>=3.1.0 (from scikit-learn)\n",
      "  Downloading threadpoolctl-3.6.0-py3-none-any.whl.metadata (13 kB)\n",
      "Requirement already satisfied: six>=1.5 in c:\\users\\jinay\\miniconda3\\envs\\bootcamp_env\\lib\\site-packages (from python-dateutil>=2.7->matplotlib) (1.17.0)\n",
      "Downloading matplotlib-3.10.5-cp310-cp310-win_amd64.whl (8.1 MB)\n",
      "   ---------------------------------------- 0.0/8.1 MB ? eta -:--:--\n",
      "   ------------ --------------------------- 2.6/8.1 MB 15.0 MB/s eta 0:00:01\n",
      "   -------------------------------- ------- 6.6/8.1 MB 16.8 MB/s eta 0:00:01\n",
      "   ---------------------------------------- 8.1/8.1 MB 14.3 MB/s eta 0:00:00\n",
      "Downloading scikit_learn-1.7.1-cp310-cp310-win_amd64.whl (8.9 MB)\n",
      "   ---------------------------------------- 0.0/8.9 MB ? eta -:--:--\n",
      "   --------------- ------------------------ 3.4/8.9 MB 16.7 MB/s eta 0:00:01\n",
      "   -------------------------------- ------- 7.3/8.9 MB 17.4 MB/s eta 0:00:01\n",
      "   ---------------------------------------- 8.9/8.9 MB 17.3 MB/s eta 0:00:00\n",
      "Downloading contourpy-1.3.2-cp310-cp310-win_amd64.whl (221 kB)\n",
      "Using cached cycler-0.12.1-py3-none-any.whl (8.3 kB)\n",
      "Downloading fonttools-4.59.1-cp310-cp310-win_amd64.whl (2.3 MB)\n",
      "   ---------------------------------------- 0.0/2.3 MB ? eta -:--:--\n",
      "   ---------------------------------------- 2.3/2.3 MB 21.5 MB/s eta 0:00:00\n",
      "Downloading joblib-1.5.1-py3-none-any.whl (307 kB)\n",
      "Downloading kiwisolver-1.4.9-cp310-cp310-win_amd64.whl (73 kB)\n",
      "Downloading pillow-11.3.0-cp310-cp310-win_amd64.whl (7.0 MB)\n",
      "   ---------------------------------------- 0.0/7.0 MB ? eta -:--:--\n",
      "   ------------ --------------------------- 2.1/7.0 MB 13.0 MB/s eta 0:00:01\n",
      "   ---------------------------------------  6.8/7.0 MB 16.1 MB/s eta 0:00:01\n",
      "   ---------------------------------------- 7.0/7.0 MB 15.4 MB/s eta 0:00:00\n",
      "Using cached pyparsing-3.2.3-py3-none-any.whl (111 kB)\n",
      "Downloading scipy-1.15.3-cp310-cp310-win_amd64.whl (41.3 MB)\n",
      "   ---------------------------------------- 0.0/41.3 MB ? eta -:--:--\n",
      "   ---- ----------------------------------- 4.2/41.3 MB 22.9 MB/s eta 0:00:02\n",
      "   -------- ------------------------------- 8.7/41.3 MB 22.4 MB/s eta 0:00:02\n",
      "   ----------- ---------------------------- 12.1/41.3 MB 19.3 MB/s eta 0:00:02\n",
      "   --------------- ------------------------ 15.7/41.3 MB 19.4 MB/s eta 0:00:02\n",
      "   ------------------- -------------------- 20.4/41.3 MB 20.2 MB/s eta 0:00:02\n",
      "   ------------------------ --------------- 25.7/41.3 MB 20.9 MB/s eta 0:00:01\n",
      "   ------------------------------- -------- 32.0/41.3 MB 22.3 MB/s eta 0:00:01\n",
      "   ----------------------------------- ---- 36.4/41.3 MB 22.9 MB/s eta 0:00:01\n",
      "   ---------------------------------------  41.2/41.3 MB 22.9 MB/s eta 0:00:01\n",
      "   ---------------------------------------- 41.3/41.3 MB 20.0 MB/s eta 0:00:00\n",
      "Downloading threadpoolctl-3.6.0-py3-none-any.whl (18 kB)\n",
      "Installing collected packages: threadpoolctl, scipy, pyparsing, pillow, kiwisolver, joblib, fonttools, cycler, contourpy, scikit-learn, matplotlib\n",
      "\n",
      "   --- ------------------------------------  1/11 [scipy]\n",
      "   --- ------------------------------------  1/11 [scipy]\n",
      "   --- ------------------------------------  1/11 [scipy]\n",
      "   --- ------------------------------------  1/11 [scipy]\n",
      "   --- ------------------------------------  1/11 [scipy]\n",
      "   --- ------------------------------------  1/11 [scipy]\n",
      "   --- ------------------------------------  1/11 [scipy]\n",
      "   --- ------------------------------------  1/11 [scipy]\n",
      "   --- ------------------------------------  1/11 [scipy]\n",
      "   --- ------------------------------------  1/11 [scipy]\n",
      "   --- ------------------------------------  1/11 [scipy]\n",
      "   --- ------------------------------------  1/11 [scipy]\n",
      "   --- ------------------------------------  1/11 [scipy]\n",
      "   --- ------------------------------------  1/11 [scipy]\n",
      "   --- ------------------------------------  1/11 [scipy]\n",
      "   --- ------------------------------------  1/11 [scipy]\n",
      "   --- ------------------------------------  1/11 [scipy]\n",
      "   --- ------------------------------------  1/11 [scipy]\n",
      "   --- ------------------------------------  1/11 [scipy]\n",
      "   --- ------------------------------------  1/11 [scipy]\n",
      "   --- ------------------------------------  1/11 [scipy]\n",
      "   --- ------------------------------------  1/11 [scipy]\n",
      "   --- ------------------------------------  1/11 [scipy]\n",
      "   --- ------------------------------------  1/11 [scipy]\n",
      "   --- ------------------------------------  1/11 [scipy]\n",
      "   --- ------------------------------------  1/11 [scipy]\n",
      "   --- ------------------------------------  1/11 [scipy]\n",
      "   --- ------------------------------------  1/11 [scipy]\n",
      "   --- ------------------------------------  1/11 [scipy]\n",
      "   --- ------------------------------------  1/11 [scipy]\n",
      "   --- ------------------------------------  1/11 [scipy]\n",
      "   --- ------------------------------------  1/11 [scipy]\n",
      "   --- ------------------------------------  1/11 [scipy]\n",
      "   --- ------------------------------------  1/11 [scipy]\n",
      "   --- ------------------------------------  1/11 [scipy]\n",
      "   ---------- -----------------------------  3/11 [pillow]\n",
      "   ---------- -----------------------------  3/11 [pillow]\n",
      "   ---------- -----------------------------  3/11 [pillow]\n",
      "   -------------- -------------------------  4/11 [kiwisolver]\n",
      "   ------------------ ---------------------  5/11 [joblib]\n",
      "   ------------------ ---------------------  5/11 [joblib]\n",
      "   --------------------- ------------------  6/11 [fonttools]\n",
      "   --------------------- ------------------  6/11 [fonttools]\n",
      "   --------------------- ------------------  6/11 [fonttools]\n",
      "   --------------------- ------------------  6/11 [fonttools]\n",
      "   --------------------- ------------------  6/11 [fonttools]\n",
      "   --------------------- ------------------  6/11 [fonttools]\n",
      "   --------------------- ------------------  6/11 [fonttools]\n",
      "   --------------------- ------------------  6/11 [fonttools]\n",
      "   --------------------- ------------------  6/11 [fonttools]\n",
      "   ----------------------------- ----------  8/11 [contourpy]\n",
      "   -------------------------------- -------  9/11 [scikit-learn]\n",
      "   -------------------------------- -------  9/11 [scikit-learn]\n",
      "   -------------------------------- -------  9/11 [scikit-learn]\n",
      "   -------------------------------- -------  9/11 [scikit-learn]\n",
      "   -------------------------------- -------  9/11 [scikit-learn]\n",
      "   -------------------------------- -------  9/11 [scikit-learn]\n",
      "   -------------------------------- -------  9/11 [scikit-learn]\n",
      "   -------------------------------- -------  9/11 [scikit-learn]\n",
      "   -------------------------------- -------  9/11 [scikit-learn]\n",
      "   -------------------------------- -------  9/11 [scikit-learn]\n",
      "   -------------------------------- -------  9/11 [scikit-learn]\n",
      "   -------------------------------- -------  9/11 [scikit-learn]\n",
      "   -------------------------------- -------  9/11 [scikit-learn]\n",
      "   -------------------------------- -------  9/11 [scikit-learn]\n",
      "   -------------------------------- -------  9/11 [scikit-learn]\n",
      "   -------------------------------- -------  9/11 [scikit-learn]\n",
      "   -------------------------------- -------  9/11 [scikit-learn]\n",
      "   -------------------------------- -------  9/11 [scikit-learn]\n",
      "   -------------------------------- -------  9/11 [scikit-learn]\n",
      "   -------------------------------- -------  9/11 [scikit-learn]\n",
      "   -------------------------------- -------  9/11 [scikit-learn]\n",
      "   ------------------------------------ --- 10/11 [matplotlib]\n",
      "   ------------------------------------ --- 10/11 [matplotlib]\n",
      "   ------------------------------------ --- 10/11 [matplotlib]\n",
      "   ------------------------------------ --- 10/11 [matplotlib]\n",
      "   ------------------------------------ --- 10/11 [matplotlib]\n",
      "   ------------------------------------ --- 10/11 [matplotlib]\n",
      "   ------------------------------------ --- 10/11 [matplotlib]\n",
      "   ------------------------------------ --- 10/11 [matplotlib]\n",
      "   ------------------------------------ --- 10/11 [matplotlib]\n",
      "   ------------------------------------ --- 10/11 [matplotlib]\n",
      "   ------------------------------------ --- 10/11 [matplotlib]\n",
      "   ------------------------------------ --- 10/11 [matplotlib]\n",
      "   ------------------------------------ --- 10/11 [matplotlib]\n",
      "   ---------------------------------------- 11/11 [matplotlib]\n",
      "\n",
      "Successfully installed contourpy-1.3.2 cycler-0.12.1 fonttools-4.59.1 joblib-1.5.1 kiwisolver-1.4.9 matplotlib-3.10.5 pillow-11.3.0 pyparsing-3.2.3 scikit-learn-1.7.1 scipy-1.15.3 threadpoolctl-3.6.0\n"
     ]
    },
    {
     "name": "stderr",
     "output_type": "stream",
     "text": [
      "  WARNING: Retrying (Retry(total=4, connect=None, read=None, redirect=None, status=None)) after connection broken by 'ProtocolError('Connection aborted.', ConnectionResetError(10054, 'An existing connection was forcibly closed by the remote host', None, 10054, None))': /packages/c1/29/82bf486ff7f4dbedfb11ccc207d0575cbe3be6ea26f75be514252bde3d70/matplotlib-3.10.5-cp310-cp310-win_amd64.whl.metadata\n",
      "  WARNING: Retrying (Retry(total=3, connect=None, read=None, redirect=None, status=None)) after connection broken by 'ProtocolError('Connection aborted.', ConnectionResetError(10054, 'An existing connection was forcibly closed by the remote host', None, 10054, None))': /packages/c1/29/82bf486ff7f4dbedfb11ccc207d0575cbe3be6ea26f75be514252bde3d70/matplotlib-3.10.5-cp310-cp310-win_amd64.whl.metadata\n"
     ]
    }
   ],
   "source": [
    "\n",
    "!pip install matplotlib scikit-learn\n",
    "\n"
   ]
  },
  {
   "cell_type": "code",
   "execution_count": 26,
   "id": "ffb76106",
   "metadata": {},
   "outputs": [],
   "source": [
    "import os\n",
    "import numpy as np\n",
    "import pandas as pd\n",
    "import matplotlib.pyplot as plt\n",
    "from pathlib import Path\n",
    "from sklearn.linear_model import LinearRegression\n",
    "from sklearn.metrics import mean_absolute_error, r2_score\n",
    "\n",
    "# Reproducibility\n",
    "np.random.seed(42)\n",
    "\n",
    "# Directories\n",
    "raw_dir = Path('D:/bootcamp_Jinay_Jain/homework/homework7/data/raw')\n",
    "processed_dir = Path('D:/bootcamp_Jinay_Jain/homework/homework7/data/processed')\n",
    "raw_dir.mkdir(parents=True, exist_ok=True)\n",
    "processed_dir.mkdir(parents=True, exist_ok=True)"
   ]
  },
  {
   "cell_type": "markdown",
   "id": "c853cdbd",
   "metadata": {},
   "source": [
    "Data Generation and loading"
   ]
  },
  {
   "cell_type": "code",
   "execution_count": 27,
   "id": "2965bd1a",
   "metadata": {},
   "outputs": [
    {
     "data": {
      "text/html": [
       "<div>\n",
       "<style scoped>\n",
       "    .dataframe tbody tr th:only-of-type {\n",
       "        vertical-align: middle;\n",
       "    }\n",
       "\n",
       "    .dataframe tbody tr th {\n",
       "        vertical-align: top;\n",
       "    }\n",
       "\n",
       "    .dataframe thead th {\n",
       "        text-align: right;\n",
       "    }\n",
       "</style>\n",
       "<table border=\"1\" class=\"dataframe\">\n",
       "  <thead>\n",
       "    <tr style=\"text-align: right;\">\n",
       "      <th></th>\n",
       "      <th>date</th>\n",
       "      <th>stock_a_return</th>\n",
       "      <th>stock_b_return</th>\n",
       "    </tr>\n",
       "  </thead>\n",
       "  <tbody>\n",
       "    <tr>\n",
       "      <th>0</th>\n",
       "      <td>2023-07-03</td>\n",
       "      <td>0.005761</td>\n",
       "      <td>-0.006822</td>\n",
       "    </tr>\n",
       "    <tr>\n",
       "      <th>1</th>\n",
       "      <td>2023-07-04</td>\n",
       "      <td>-0.001859</td>\n",
       "      <td>-0.000821</td>\n",
       "    </tr>\n",
       "    <tr>\n",
       "      <th>2</th>\n",
       "      <td>2023-07-05</td>\n",
       "      <td>0.007572</td>\n",
       "      <td>-0.002136</td>\n",
       "    </tr>\n",
       "    <tr>\n",
       "      <th>3</th>\n",
       "      <td>2023-07-06</td>\n",
       "      <td>0.018076</td>\n",
       "      <td>0.015969</td>\n",
       "    </tr>\n",
       "    <tr>\n",
       "      <th>4</th>\n",
       "      <td>2023-07-07</td>\n",
       "      <td>-0.003010</td>\n",
       "      <td>-0.008543</td>\n",
       "    </tr>\n",
       "  </tbody>\n",
       "</table>\n",
       "</div>"
      ],
      "text/plain": [
       "         date  stock_a_return  stock_b_return\n",
       "0  2023-07-03        0.005761       -0.006822\n",
       "1  2023-07-04       -0.001859       -0.000821\n",
       "2  2023-07-05        0.007572       -0.002136\n",
       "3  2023-07-06        0.018076        0.015969\n",
       "4  2023-07-07       -0.003010       -0.008543"
      ]
     },
     "execution_count": 27,
     "metadata": {},
     "output_type": "execute_result"
    }
   ],
   "source": [
    "# Generate synthetic financial data\n",
    "dates = pd.date_range(start=\"2023-07-03\", end=\"2023-12-29\", freq=\"B\")\n",
    "\n",
    "# Stock A returns: drift + noise\n",
    "stock_a = np.random.normal(0.0008, 0.012, size=len(dates))\n",
    "stock_a[dates < \"2023-10-01\"] -= 0.001\n",
    "\n",
    "# Add shock events (simulate volatility spikes)\n",
    "shock_points = {\n",
    "    \"2023-10-16\": 0.15,\n",
    "    \"2023-10-18\": -0.17,\n",
    "    \"2023-11-10\": -0.13,\n",
    "    \"2023-11-13\": 0.20\n",
    "}\n",
    "for d, v in shock_points.items():\n",
    "    idx = np.where(dates == pd.to_datetime(d))[0][0]\n",
    "    stock_a[idx] = v\n",
    "\n",
    "# Stock B: correlated with Stock A\n",
    "stock_b = stock_a * 0.7 + np.random.normal(0, 0.007, size=len(dates))\n",
    "\n",
    "df = pd.DataFrame({\n",
    "    \"date\": dates,\n",
    "    \"stock_a_return\": stock_a,\n",
    "    \"stock_b_return\": stock_b\n",
    "})\n",
    "\n",
    "# Save file\n",
    "csv_path = raw_dir / 'financial_outliers.csv'\n",
    "df.to_csv(csv_path, index=False)\n",
    "\n",
    "# Load data\n",
    "df = pd.read_csv(csv_path)\n",
    "df.head()\n"
   ]
  },
  {
   "cell_type": "markdown",
   "id": "2e32448a",
   "metadata": {},
   "source": [
    "Outlier Detection Functions"
   ]
  },
  {
   "cell_type": "code",
   "execution_count": 28,
   "id": "42083f71",
   "metadata": {},
   "outputs": [],
   "source": [
    "def detect_outliers_iqr(series: pd.Series, k: float = 1.5) -> pd.Series:\n",
    "    \"\"\"\n",
    "    Detect outliers using IQR rule.\n",
    "\n",
    "    Parameters\n",
    "    ----------\n",
    "    series : pd.Series\n",
    "        Input numeric series.\n",
    "    k : float\n",
    "        Multiplier for IQR (default=1.5).\n",
    "\n",
    "    Returns\n",
    "    -------\n",
    "    pd.Series\n",
    "        Boolean mask where True indicates outlier.\n",
    "    \"\"\"\n",
    "    q1, q3 = series.quantile([0.25, 0.75])\n",
    "    iqr = q3 - q1\n",
    "    lower, upper = q1 - k * iqr, q3 + k * iqr\n",
    "    return (series < lower) | (series > upper)\n",
    "\n",
    "\n",
    "def detect_outliers_zscore(series: pd.Series, threshold: float = 3.0) -> pd.Series:\n",
    "    \"\"\"\n",
    "    Detect outliers using Z-score.\n",
    "\n",
    "    Parameters\n",
    "    ----------\n",
    "    series : pd.Series\n",
    "        Input numeric series.\n",
    "    threshold : float\n",
    "        Z-score threshold (default=3.0).\n",
    "\n",
    "    Returns\n",
    "    -------\n",
    "    pd.Series\n",
    "        Boolean mask where True indicates outlier.\n",
    "    \"\"\"\n",
    "    mu, sigma = series.mean(), series.std(ddof=0)\n",
    "    z = (series - mu) / (sigma if sigma != 0 else 1.0)\n",
    "    return z.abs() > threshold\n",
    "\n",
    "\n",
    "def winsorize_series(series: pd.Series, lower: float = 0.05, upper: float = 0.95) -> pd.Series:\n",
    "    \"\"\"\n",
    "    Winsorize a series by capping values at given quantiles.\n",
    "\n",
    "    Parameters\n",
    "    ----------\n",
    "    series : pd.Series\n",
    "        Input numeric series.\n",
    "    lower : float\n",
    "        Lower quantile (default=0.05).\n",
    "    upper : float\n",
    "        Upper quantile (default=0.95).\n",
    "\n",
    "    Returns\n",
    "    -------\n",
    "    pd.Series\n",
    "        Winsorized series.\n",
    "    \"\"\"\n",
    "    lo, hi = series.quantile([lower, upper])\n",
    "    return series.clip(lower=lo, upper=hi)\n"
   ]
  },
  {
   "cell_type": "markdown",
   "id": "c9ae8852",
   "metadata": {},
   "source": [
    "Apply Outlier Detection"
   ]
  },
  {
   "cell_type": "code",
   "execution_count": 29,
   "id": "03290663",
   "metadata": {},
   "outputs": [
    {
     "name": "stdout",
     "output_type": "stream",
     "text": [
      "Outlier fraction:\n",
      "outlier_iqr    0.053846\n",
      "outlier_z      0.030769\n",
      "dtype: float64\n"
     ]
    }
   ],
   "source": [
    "target_col = 'stock_a_return'\n",
    "\n",
    "df['outlier_iqr'] = detect_outliers_iqr(df[target_col])\n",
    "df['outlier_z'] = detect_outliers_zscore(df[target_col])\n",
    "\n",
    "print(\"Outlier fraction:\")\n",
    "print(df[['outlier_iqr', 'outlier_z']].mean())\n"
   ]
  },
  {
   "cell_type": "markdown",
   "id": "b6a94e94",
   "metadata": {},
   "source": [
    "Visualizations (Before/After)"
   ]
  },
  {
   "cell_type": "code",
   "execution_count": 30,
   "id": "2c732eec",
   "metadata": {},
   "outputs": [
    {
     "name": "stderr",
     "output_type": "stream",
     "text": [
      "C:\\Users\\jinay\\AppData\\Local\\Temp\\ipykernel_6748\\2562613601.py:3: MatplotlibDeprecationWarning: The 'labels' parameter of boxplot() has been renamed 'tick_labels' since Matplotlib 3.9; support for the old name will be dropped in 3.11.\n",
      "  plt.boxplot([df[target_col], df.loc[~df['outlier_iqr'], target_col]], labels=['All', 'Filtered'])\n"
     ]
    },
    {
     "data": {
      "image/png": "[encoded data removed]",
      "text/plain": [
       "<Figure size 800x400 with 1 Axes>"
      ]
     },
     "metadata": {},
     "output_type": "display_data"
    },
    {
     "data": {
      "image/png": "[encoded data removed]",
      "text/plain": [
       "<Figure size 800x400 with 1 Axes>"
      ]
     },
     "metadata": {},
     "output_type": "display_data"
    }
   ],
   "source": [
    "# Boxplot before and after IQR filtering\n",
    "plt.figure(figsize=(8,4))\n",
    "plt.boxplot([df[target_col], df.loc[~df['outlier_iqr'], target_col]], labels=['All', 'Filtered'])\n",
    "plt.title('Boxplot: Before vs After Outlier Removal')\n",
    "plt.show()\n",
    "\n",
    "# Histogram\n",
    "plt.figure(figsize=(8,4))\n",
    "plt.hist(df[target_col], bins=30, alpha=0.7, label='All')\n",
    "plt.hist(df.loc[~df['outlier_iqr'], target_col], bins=30, alpha=0.7, label='Filtered')\n",
    "plt.title('Histogram: Before vs After')\n",
    "plt.legend()\n",
    "plt.show()\n"
   ]
  },
  {
   "cell_type": "markdown",
   "id": "4c615cdc",
   "metadata": {},
   "source": [
    "Sensitivity Analysis (Summary Stats)"
   ]
  },
  {
   "cell_type": "code",
   "execution_count": 31,
   "id": "79c240e5",
   "metadata": {},
   "outputs": [
    {
     "data": {
      "text/html": [
       "<div>\n",
       "<style scoped>\n",
       "    .dataframe tbody tr th:only-of-type {\n",
       "        vertical-align: middle;\n",
       "    }\n",
       "\n",
       "    .dataframe tbody tr th {\n",
       "        vertical-align: top;\n",
       "    }\n",
       "\n",
       "    .dataframe thead th {\n",
       "        text-align: right;\n",
       "    }\n",
       "</style>\n",
       "<table border=\"1\" class=\"dataframe\">\n",
       "  <thead>\n",
       "    <tr style=\"text-align: right;\">\n",
       "      <th></th>\n",
       "      <th>all</th>\n",
       "      <th>filtered_iqr</th>\n",
       "      <th>winsorized</th>\n",
       "    </tr>\n",
       "  </thead>\n",
       "  <tbody>\n",
       "    <tr>\n",
       "      <th>mean</th>\n",
       "      <td>-0.000029</td>\n",
       "      <td>-0.000656</td>\n",
       "      <td>-0.000541</td>\n",
       "    </tr>\n",
       "    <tr>\n",
       "      <th>median</th>\n",
       "      <td>-0.000079</td>\n",
       "      <td>-0.000093</td>\n",
       "      <td>-0.000079</td>\n",
       "    </tr>\n",
       "    <tr>\n",
       "      <th>std</th>\n",
       "      <td>0.031073</td>\n",
       "      <td>0.010561</td>\n",
       "      <td>0.011158</td>\n",
       "    </tr>\n",
       "  </tbody>\n",
       "</table>\n",
       "</div>"
      ],
      "text/plain": [
       "             all  filtered_iqr  winsorized\n",
       "mean   -0.000029     -0.000656   -0.000541\n",
       "median -0.000079     -0.000093   -0.000079\n",
       "std     0.031073      0.010561    0.011158"
      ]
     },
     "execution_count": 31,
     "metadata": {},
     "output_type": "execute_result"
    }
   ],
   "source": [
    "summ_all = df[target_col].describe()[['mean', '50%', 'std']].rename({'50%': 'median'})\n",
    "summ_filtered = df.loc[~df['outlier_iqr'], target_col].describe()[['mean', '50%', 'std']].rename({'50%': 'median'})\n",
    "summ_w = winsorize_series(df[target_col]).describe()[['mean', '50%', 'std']].rename({'50%': 'median'})\n",
    "\n",
    "comp = pd.concat({\n",
    "    'all': summ_all,\n",
    "    'filtered_iqr': summ_filtered,\n",
    "    'winsorized': summ_w\n",
    "}, axis=1)\n",
    "comp\n"
   ]
  },
  {
   "cell_type": "markdown",
   "id": "d4befac0",
   "metadata": {},
   "source": [
    "Regression Analysis & Plots"
   ]
  },
  {
   "cell_type": "code",
   "execution_count": 32,
   "id": "b8cbc66d",
   "metadata": {},
   "outputs": [
    {
     "data": {
      "text/html": [
       "<div>\n",
       "<style scoped>\n",
       "    .dataframe tbody tr th:only-of-type {\n",
       "        vertical-align: middle;\n",
       "    }\n",
       "\n",
       "    .dataframe tbody tr th {\n",
       "        vertical-align: top;\n",
       "    }\n",
       "\n",
       "    .dataframe thead th {\n",
       "        text-align: right;\n",
       "    }\n",
       "</style>\n",
       "<table border=\"1\" class=\"dataframe\">\n",
       "  <thead>\n",
       "    <tr style=\"text-align: right;\">\n",
       "      <th></th>\n",
       "      <th>slope</th>\n",
       "      <th>intercept</th>\n",
       "      <th>r2</th>\n",
       "      <th>mae</th>\n",
       "    </tr>\n",
       "  </thead>\n",
       "  <tbody>\n",
       "    <tr>\n",
       "      <th>all</th>\n",
       "      <td>0.695154</td>\n",
       "      <td>0.000580</td>\n",
       "      <td>0.904201</td>\n",
       "      <td>0.005596</td>\n",
       "    </tr>\n",
       "    <tr>\n",
       "      <th>filtered_iqr</th>\n",
       "      <td>0.604598</td>\n",
       "      <td>0.000597</td>\n",
       "      <td>0.454069</td>\n",
       "      <td>0.005605</td>\n",
       "    </tr>\n",
       "  </tbody>\n",
       "</table>\n",
       "</div>"
      ],
      "text/plain": [
       "                 slope  intercept        r2       mae\n",
       "all           0.695154   0.000580  0.904201  0.005596\n",
       "filtered_iqr  0.604598   0.000597  0.454069  0.005605"
      ]
     },
     "execution_count": 32,
     "metadata": {},
     "output_type": "execute_result"
    }
   ],
   "source": [
    "X_all = df[['stock_a_return']].to_numpy()\n",
    "y_all = df['stock_b_return'].to_numpy()\n",
    "\n",
    "X_filtered = df.loc[~df['outlier_iqr'], ['stock_a_return']].to_numpy()\n",
    "y_filtered = df.loc[~df['outlier_iqr'], 'stock_b_return'].to_numpy()\n",
    "\n",
    "model_all = LinearRegression().fit(X_all, y_all)\n",
    "model_flt = LinearRegression().fit(X_filtered, y_filtered)\n",
    "\n",
    "mae_all = mean_absolute_error(y_all, model_all.predict(X_all))\n",
    "mae_flt = mean_absolute_error(y_filtered, model_flt.predict(X_filtered))\n",
    "\n",
    "results = pd.DataFrame({\n",
    "    'slope': [model_all.coef_[0], model_flt.coef_[0]],\n",
    "    'intercept': [model_all.intercept_, model_flt.intercept_],\n",
    "    'r2': [model_all.score(X_all, y_all), model_flt.score(X_filtered, y_filtered)],\n",
    "    'mae': [mae_all, mae_flt]\n",
    "}, index=['all', 'filtered_iqr'])\n",
    "results\n"
   ]
  },
  {
   "cell_type": "markdown",
   "id": "6504fd05",
   "metadata": {},
   "source": [
    "Regression Scatter Plots"
   ]
  },
  {
   "cell_type": "code",
   "execution_count": 33,
   "id": "a1bdd1f0",
   "metadata": {},
   "outputs": [
    {
     "data": {
      "image/png": "[encoded data removed]",
      "text/plain": [
       "<Figure size 1000x500 with 2 Axes>"
      ]
     },
     "metadata": {},
     "output_type": "display_data"
    }
   ],
   "source": [
    "# Regression plots\n",
    "plt.figure(figsize=(10,5))\n",
    "\n",
    "# Before outlier removal\n",
    "plt.subplot(1,2,1)\n",
    "plt.scatter(X_all, y_all, alpha=0.6, label='All Data')\n",
    "plt.plot(X_all, model_all.predict(X_all), color='red', label='Regression Line')\n",
    "plt.title('Regression (All)')\n",
    "plt.xlabel('Stock A Return'); plt.ylabel('Stock B Return')\n",
    "plt.legend()\n",
    "\n",
    "# After outlier removal\n",
    "plt.subplot(1,2,2)\n",
    "plt.scatter(X_filtered, y_filtered, alpha=0.6, label='Filtered Data')\n",
    "plt.plot(X_filtered, model_flt.predict(X_filtered), color='green', label='Regression Line')\n",
    "plt.title('Regression (Filtered)')\n",
    "plt.xlabel('Stock A Return'); plt.ylabel('Stock B Return')\n",
    "plt.legend()\n",
    "\n",
    "plt.tight_layout()\n",
    "plt.show()\n"
   ]
  },
  {
   "cell_type": "markdown",
   "id": "50f6737f",
   "metadata": {},
   "source": [
    "Residual Plots"
   ]
  },
  {
   "cell_type": "code",
   "execution_count": 34,
   "id": "fb6d90dd",
   "metadata": {},
   "outputs": [
    {
     "data": {
      "image/png": "[encoded data removed]",
      "text/plain": [
       "<Figure size 1000x400 with 1 Axes>"
      ]
     },
     "metadata": {},
     "output_type": "display_data"
    }
   ],
   "source": [
    "# Residual comparison\n",
    "res_all = y_all - model_all.predict(X_all)\n",
    "res_filtered = y_filtered - model_flt.predict(X_filtered)\n",
    "\n",
    "plt.figure(figsize=(10,4))\n",
    "plt.hist(res_all, bins=30, alpha=0.6, label='All Residuals')\n",
    "plt.hist(res_filtered, bins=30, alpha=0.6, label='Filtered Residuals')\n",
    "plt.title('Residuals Distribution Before vs After')\n",
    "plt.legend()\n",
    "plt.show()\n"
   ]
  },
  {
   "cell_type": "markdown",
   "id": "3c7844f1",
   "metadata": {},
   "source": [
    "Reflection\n",
    "\n",
    "In this analysis, I used two common outlier detection methods: IQR-based filtering and Z-score filtering.\n",
    "\n",
    "Choice of Methods & Thresholds:\n",
    "I chose IQR with 𝑘=1.5, because it is robust to non-normal distributions and works well for skewed financial return data. I also applied the Z-score method with a threshold of ∣𝑧∣>3.0, which is standard for normally distributed data. Additionally, I experimented with Winsorization (5% and 95%) as a technique to cap extreme values instead of removing them.\n",
    "\n",
    "Assumptions Behind Methods:\n",
    "\n",
    "The IQR method assumes that the middle 50% of data represents the normal range of variation.\n",
    "\n",
    "The Z-score method assumes the data is approximately normal and symmetric.\n",
    "\n",
    "Winsorization assumes that extreme values are likely errors or noise rather than meaningful signals.\n",
    "\n",
    "Observed Impact on Results:\n",
    "Removing outliers using the IQR rule significantly reduced the standard deviation and made the mean closer to the median. For example, the mean return changed from positive drift to near zero, indicating that extreme shocks were dominating the original average.\n",
    "In the regression analysis, the slope and R² improved after filtering outliers, which suggests that extreme points were distorting the linear relationship between stock_a_return and stock_b_return.\n",
    "\n",
    "Risks if Assumptions Are Wrong:\n",
    "If the extreme values represent real market events (e.g., a crash or rally), removing or winsorizing them can lead to underestimating risk and misinforming financial models. This is critical in risk management and portfolio optimization because tail events often carry the most significant risk.\n",
    "\n",
    "Conclusion:\n",
    "IQR worked well for this dataset as returns were not perfectly normal, while Z-score was more sensitive to heavy tails. Winsorization provided a balanced approach by reducing the influence of outliers without deleting data."
   ]
  }
 ],
 "metadata": {
  "kernelspec": {
   "display_name": "bootcamp_env",
   "language": "python",
   "name": "python3"
  },
  "language_info": {
   "codemirror_mode": {
    "name": "ipython",
    "version": 3
   },
   "file_extension": ".py",
   "mimetype": "text/x-python",
   "name": "python",
   "nbconvert_exporter": "python",
   "pygments_lexer": "ipython3",
   "version": "3.10.18"
  }
 },
 "nbformat": 4,
 "nbformat_minor": 5
}
